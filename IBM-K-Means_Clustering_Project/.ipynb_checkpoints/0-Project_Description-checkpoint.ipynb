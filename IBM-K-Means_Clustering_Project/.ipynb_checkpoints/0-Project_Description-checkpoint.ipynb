{
 "cells": [
  {
   "cell_type": "markdown",
   "metadata": {},
   "source": [
    "### IBM Data Science with Python - Capstone Project Description"
   ]
  },
  {
   "cell_type": "markdown",
   "metadata": {},
   "source": [
    "The IBM Capstone Project explores and clusters the neighborhoods in Toronto according to the frequency of venues such as gyms and parks they include. The notebooks in this folder are described below:\n",
    "\n",
    "1-Postal_Codes_DataFrame: builds a dataframe of the postal code of each neighborhood in Toronto, Canada along with the borough name and neighborhood name.\n",
    "\n",
    "2-Toronto_Geospatial_data: loads the dataframe constructed in the notebook 1-Postal_Codes_DataFrame and the dataframe which contains the latitude and longitude data for each postal code and inner joins them using the common 'Postal Code' column in both data frames. The resulting data frame includes data about Toronto postal codes, boroughs, neighborhoods and corresponding latitude and longitude data for each postal code. \n",
    "\n",
    "3-Kmeans-Clustering: Explores and runs K-means clustering on the postal code areas whose boroughs include the word \"Toronto\" in them. "
   ]
  }
 ],
 "metadata": {
  "kernelspec": {
   "display_name": "Python 3",
   "language": "python",
   "name": "python3"
  },
  "language_info": {
   "codemirror_mode": {
    "name": "ipython",
    "version": 3
   },
   "file_extension": ".py",
   "mimetype": "text/x-python",
   "name": "python",
   "nbconvert_exporter": "python",
   "pygments_lexer": "ipython3",
   "version": "3.7.1"
  }
 },
 "nbformat": 4,
 "nbformat_minor": 2
}
