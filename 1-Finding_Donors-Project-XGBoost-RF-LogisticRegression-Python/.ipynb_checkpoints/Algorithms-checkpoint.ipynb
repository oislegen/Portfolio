{
 "cells": [
  {
   "cell_type": "markdown",
   "metadata": {},
   "source": [
    "## 1. Find cycle in a directed graph:"
   ]
  },
  {
   "cell_type": "code",
   "execution_count": 1,
   "metadata": {},
   "outputs": [],
   "source": [
    "# A cycle exists in a Directed Graph if you start traversing from any node and end up back at a visited node.\n",
    "# The definition of visited node is that we would have to traverse through the node\n",
    "# write a function to find if there is a cycle in a Directed Graph.\n",
    "# hint - use recursion\n",
    "edge_dict_1 = {'n2': ['n1','n4'],\n",
    "'n3': ['n4', 'n2'],\n",
    "'n5': ['n3'],\n",
    "'n4' : ['n5'],\n",
    "'n1': []\n",
    "} # find_cycle returns True\n",
    "edge_dict_2 = {'n2': ['n1','n4'],\n",
    "'n3': ['n5'],\n",
    "'n5': ['n1'],\n",
    "'n4' : ['n5'],\n",
    "'n1': []\n",
    "} # find_cycle returns False"
   ]
  },
  {
   "cell_type": "markdown",
   "metadata": {},
   "source": [
    "### 1.1. Find cycle by recursion:"
   ]
  },
  {
   "cell_type": "code",
   "execution_count": 2,
   "metadata": {},
   "outputs": [
    {
     "name": "stdout",
     "output_type": "stream",
     "text": [
      "True\n",
      "False\n"
     ]
    }
   ],
   "source": [
    "def find_cycle(edge_dict):\n",
    "    def visit(node,previous_nodes_visited):\n",
    "        while len(previous_nodes_visited)<=len(edge_dict):\n",
    "            if edge_dict[node]==[]:\n",
    "                break\n",
    "            else:\n",
    "                for new_node in edge_dict[node]:\n",
    "                    previous_nodes_visited.append(new_node)\n",
    "                    visit(new_node,previous_nodes_visited)\n",
    "        return previous_nodes_visited\n",
    "\n",
    "    for node in sorted(edge_dict.keys()):\n",
    "        previous_nodes=[]\n",
    "        previous_nodes=visit(node,previous_nodes)\n",
    "        if node in previous_nodes:\n",
    "            return True\n",
    "    return False\n",
    "\n",
    "print(find_cycle(edge_dict_1)) # returns True\n",
    "print(find_cycle(edge_dict_2)) # returns False"
   ]
  },
  {
   "cell_type": "code",
   "execution_count": null,
   "metadata": {},
   "outputs": [],
   "source": [
    "def is_cycle(edge_dict):\n",
    "    visited=[]\n",
    "    stack=adj_dict.keys()\n",
    "    while stack:\n",
    "        node=stack.pop()\n",
    "    for new_node in adj_dict[node]:\n",
    "        visited.append(new_node)\n",
    "        "
   ]
  },
  {
   "cell_type": "code",
   "execution_count": null,
   "metadata": {},
   "outputs": [],
   "source": []
  },
  {
   "cell_type": "code",
   "execution_count": null,
   "metadata": {},
   "outputs": [],
   "source": []
  },
  {
   "cell_type": "code",
   "execution_count": null,
   "metadata": {},
   "outputs": [],
   "source": []
  },
  {
   "cell_type": "code",
   "execution_count": null,
   "metadata": {},
   "outputs": [],
   "source": []
  },
  {
   "cell_type": "markdown",
   "metadata": {},
   "source": [
    "### 1.2. Find cycle by depth first search (using stack):"
   ]
  },
  {
   "cell_type": "code",
   "execution_count": 3,
   "metadata": {},
   "outputs": [],
   "source": [
    "def is_cycle(adj_dict):\n",
    "\n",
    "    for node in adj_dict:\n",
    "\n",
    "        visited = []\n",
    "        stack = [node]\n",
    "\n",
    "        while stack:\n",
    "            curr_node = stack.pop()\n",
    "\n",
    "            if curr_node in visited and adj_dict[curr_node]:\n",
    "                return True\n",
    "        visited.append(curr_node)\n",
    "\n",
    "        for neighbor in adj_dict[curr_node]:\n",
    "            if neighbor not in stack:\n",
    "                stack.append(neighbor)\n",
    "\n",
    "    return False"
   ]
  },
  {
   "cell_type": "code",
   "execution_count": null,
   "metadata": {},
   "outputs": [],
   "source": []
  },
  {
   "cell_type": "markdown",
   "metadata": {},
   "source": [
    "## 2. Find the shortest path from a source vertex to all vertices in a directed acyclic graph"
   ]
  },
  {
   "cell_type": "code",
   "execution_count": 4,
   "metadata": {},
   "outputs": [],
   "source": [
    "# Example dag with weights\n",
    "\n",
    "edge_dict_3 = {'n2': [('n1',2),('n4', 5)],\n",
    "'n3': [('n5',4)],\n",
    "'n5': [('n1',-1)],\n",
    "'n4' : [('n5',3)],\n",
    "'n1': []}"
   ]
  },
  {
   "cell_type": "code",
   "execution_count": 5,
   "metadata": {},
   "outputs": [],
   "source": [
    "from collections import defaultdict\n",
    "class Graph:  \n",
    "    def __init__(self, vertices):\n",
    "        self.V=vertices # number of vertices\n",
    "        self.graph=defaultdict(list) \n",
    "        \n",
    "    # Add edge from vertex u to v with weight w\n",
    "    def add_edge(self, u,v,w):  \n",
    "        self.graph[u].append((v,w))    \n",
    "    def topologicalSortUtil(self,v,visited,stack):\n",
    "        visited[v]=True\n",
    "        if v in self.graph.keys():\n",
    "            for node, weight in self.graph[v]:\n",
    "                if visited[node]==False:\n",
    "                    self.topologicalSortUtil(node,visited,stack)\n",
    "        # Add the vertex to the topological sort \n",
    "        stack.append(v)   \n",
    "    def topological_sort(self,s):\n",
    "        visited=[False]*self.V\n",
    "        stack=[]\n",
    "        for i in range(self.V):\n",
    "            if visited[i]==False:\n",
    "                self.topologicalSortUtil(s,visited,stack)\n",
    "        return stack \n",
    "        \n",
    "    def shortest_path(self,s):\n",
    "        dist=[float(\"inf\")]*(self.V)\n",
    "        dist[s]=0\n",
    "        stack=self.topological_sort(s)\n",
    "        while stack:\n",
    "            i=stack.pop()\n",
    "            for node, weight in self.graph[i]:\n",
    "                if dist[i]>dist[node]+weight:\n",
    "                    dist[i]=dist[node]+weight\n",
    "        # Print the calculated shortest distances \n",
    "        for i in range(self.V): \n",
    "            print ((\"%d\" %dist[i]) if dist[i] != float(\"Inf\") else  \"Inf\")              "
   ]
  },
  {
   "cell_type": "code",
   "execution_count": 6,
   "metadata": {},
   "outputs": [],
   "source": [
    "g=Graph(6)\n",
    "g.add_edge(0, 1, 5) \n",
    "g.add_edge(0, 2, 3) \n",
    "g.add_edge(1, 3, 6) \n",
    "g.add_edge(1, 2, 2) \n",
    "g.add_edge(2, 4, 4) \n",
    "g.add_edge(2, 5, 2) \n",
    "g.add_edge(2, 3, 7) \n",
    "g.add_edge(3, 4, -1) \n",
    "g.add_edge(4, 5, -2) "
   ]
  },
  {
   "cell_type": "code",
   "execution_count": 7,
   "metadata": {},
   "outputs": [
    {
     "data": {
      "text/plain": [
       "defaultdict(list,\n",
       "            {0: [(1, 5), (2, 3)],\n",
       "             1: [(3, 6), (2, 2)],\n",
       "             2: [(4, 4), (5, 2), (3, 7)],\n",
       "             3: [(4, -1)],\n",
       "             4: [(5, -2)]})"
      ]
     },
     "execution_count": 7,
     "metadata": {},
     "output_type": "execute_result"
    }
   ],
   "source": [
    "g.graph"
   ]
  },
  {
   "cell_type": "code",
   "execution_count": 9,
   "metadata": {},
   "outputs": [
    {
     "data": {
      "text/plain": [
       "[5, 4, 3, 2, 1]"
      ]
     },
     "execution_count": 9,
     "metadata": {},
     "output_type": "execute_result"
    }
   ],
   "source": [
    "g.topological_sort(1)"
   ]
  },
  {
   "cell_type": "code",
   "execution_count": 10,
   "metadata": {},
   "outputs": [
    {
     "name": "stdout",
     "output_type": "stream",
     "text": [
      "Inf\n",
      "0\n",
      "Inf\n",
      "Inf\n",
      "Inf\n",
      "Inf\n"
     ]
    }
   ],
   "source": [
    "g.shortest_path(s=1)"
   ]
  },
  {
   "cell_type": "markdown",
   "metadata": {},
   "source": [
    "### Sort a list in descending order"
   ]
  },
  {
   "cell_type": "code",
   "execution_count": 14,
   "metadata": {},
   "outputs": [],
   "source": [
    "def sort_descending(stack):\n",
    "    temp_stack=[]\n",
    "    while stack:\n",
    "        temp=stack.pop()\n",
    "        while temp_stack:\n",
    "            if temp_stack[-1]>temp:\n",
    "                temp_stack.append(temp)\n",
    "            else: \n",
    "                stack.insert(0,(temp_stack.pop()))\n",
    "        temp_stack.append(temp)\n",
    "    return temp_stack"
   ]
  },
  {
   "cell_type": "code",
   "execution_count": 15,
   "metadata": {},
   "outputs": [
    {
     "ename": "KeyboardInterrupt",
     "evalue": "",
     "output_type": "error",
     "traceback": [
      "\u001b[0;31m---------------------------------------------------------------------------\u001b[0m",
      "\u001b[0;31mKeyboardInterrupt\u001b[0m                         Traceback (most recent call last)",
      "\u001b[0;32m<ipython-input-15-bd858b5c88ae>\u001b[0m in \u001b[0;36m<module>\u001b[0;34m\u001b[0m\n\u001b[1;32m      1\u001b[0m \u001b[0mstack\u001b[0m\u001b[0;34m=\u001b[0m\u001b[0;34m[\u001b[0m\u001b[0;36m3\u001b[0m\u001b[0;34m,\u001b[0m\u001b[0;36m5\u001b[0m\u001b[0;34m,\u001b[0m\u001b[0;36m1\u001b[0m\u001b[0;34m,\u001b[0m\u001b[0;36m0\u001b[0m\u001b[0;34m,\u001b[0m\u001b[0;36m2\u001b[0m\u001b[0;34m]\u001b[0m\u001b[0;34m\u001b[0m\u001b[0;34m\u001b[0m\u001b[0m\n\u001b[0;32m----> 2\u001b[0;31m \u001b[0msort_descending\u001b[0m\u001b[0;34m(\u001b[0m\u001b[0mstack\u001b[0m\u001b[0;34m)\u001b[0m\u001b[0;34m\u001b[0m\u001b[0;34m\u001b[0m\u001b[0m\n\u001b[0m",
      "\u001b[0;32m<ipython-input-14-f5a1675f7975>\u001b[0m in \u001b[0;36msort_descending\u001b[0;34m(stack)\u001b[0m\n\u001b[1;32m      7\u001b[0m                 \u001b[0mtemp_stack\u001b[0m\u001b[0;34m.\u001b[0m\u001b[0mappend\u001b[0m\u001b[0;34m(\u001b[0m\u001b[0mtemp\u001b[0m\u001b[0;34m)\u001b[0m\u001b[0;34m\u001b[0m\u001b[0;34m\u001b[0m\u001b[0m\n\u001b[1;32m      8\u001b[0m             \u001b[0;32melse\u001b[0m\u001b[0;34m:\u001b[0m\u001b[0;34m\u001b[0m\u001b[0;34m\u001b[0m\u001b[0m\n\u001b[0;32m----> 9\u001b[0;31m                 \u001b[0mstack\u001b[0m\u001b[0;34m.\u001b[0m\u001b[0minsert\u001b[0m\u001b[0;34m(\u001b[0m\u001b[0;36m0\u001b[0m\u001b[0;34m,\u001b[0m\u001b[0;34m(\u001b[0m\u001b[0mtemp_stack\u001b[0m\u001b[0;34m.\u001b[0m\u001b[0mpop\u001b[0m\u001b[0;34m(\u001b[0m\u001b[0;34m)\u001b[0m\u001b[0;34m)\u001b[0m\u001b[0;34m)\u001b[0m\u001b[0;34m\u001b[0m\u001b[0;34m\u001b[0m\u001b[0m\n\u001b[0m\u001b[1;32m     10\u001b[0m         \u001b[0mtemp_stack\u001b[0m\u001b[0;34m.\u001b[0m\u001b[0mappend\u001b[0m\u001b[0;34m(\u001b[0m\u001b[0mtemp\u001b[0m\u001b[0;34m)\u001b[0m\u001b[0;34m\u001b[0m\u001b[0;34m\u001b[0m\u001b[0m\n\u001b[1;32m     11\u001b[0m     \u001b[0;32mreturn\u001b[0m \u001b[0mtemp_stack\u001b[0m\u001b[0;34m\u001b[0m\u001b[0;34m\u001b[0m\u001b[0m\n",
      "\u001b[0;31mKeyboardInterrupt\u001b[0m: "
     ]
    }
   ],
   "source": [
    "stack=[3,5,1,0,2]\n",
    "sort_descending(stack)"
   ]
  },
  {
   "cell_type": "code",
   "execution_count": null,
   "metadata": {},
   "outputs": [],
   "source": [
    "\n",
    "#Find the minimum non-negative integer which is not in the list\n",
    "#sorted_list=[5,4,0]\n",
    "\n",
    "example ---> [0,3,1,0]\n",
    "\n",
    "def min_integer(list):\n",
    "    sorted_list=sorted(list) \n",
    "\n",
    "    if sorted_list[0]>0:\n",
    "        return 0\n",
    "    else:\n",
    "    for i in range(len(sorted_list)-1):\n",
    "        if sorted_list[i+1]-sorted[i]>1:\n",
    "            return sorted_list[i]+1  \n",
    "            break\n",
    "    return sorted_list[-1]+1        \n",
    "    \n",
    "    \n",
    "def min_unsorted(list):\n",
    "    if len(list)>max(list)-min(list):\n",
    "        stack=max(list)\n",
    "        while list:\n",
    "            temp=list.pop(0)+1\n",
    "            if (~temp.isin(list)) & (temp<stack):\n",
    "                stack=temp    \n",
    "        return stack             "
   ]
  }
 ],
 "metadata": {
  "kernelspec": {
   "display_name": "Python 3",
   "language": "python",
   "name": "python3"
  },
  "language_info": {
   "codemirror_mode": {
    "name": "ipython",
    "version": 3
   },
   "file_extension": ".py",
   "mimetype": "text/x-python",
   "name": "python",
   "nbconvert_exporter": "python",
   "pygments_lexer": "ipython3",
   "version": "3.7.4"
  }
 },
 "nbformat": 4,
 "nbformat_minor": 2
}
