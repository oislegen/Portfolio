{
 "cells": [
  {
   "cell_type": "markdown",
   "metadata": {},
   "source": [
    "# Where Should a Data-Science Job Candidate Move in the Bay Area?\n",
    "\n",
    "## 1. Problem Description:\n",
    "\n",
    "There are currently many data science jobs in the Bay Area, which attract many job seekers in this field to the region. However, some of these job seekers first move to the area for traning purposes and they want to decide on a long-term rental place before they know the location of their future job. How can such a person decide which city to move considering the abundance of data science job openings in that city and other criteria affecting their quality of life?\n",
    "\n",
    "Suppose that your friend, who is looking for a full-time data science job near San Francisco, Bay Area, approaches you with the following problem: She needs to move to the Bay Area before finding a job because she plans to attend a 7-week long data science camp in Silicon Valley before applying for jobs. The long-term rentals are cheaper and she does not want to move again within the Bay Area shortly after finding a job. Therefore, she wants to move to a city which has a high chance of being close to her future job and provides a good quality of life in general. Her criteria for the ideal city to live in are:\n",
    "\n",
    "1- The city should include companies with job openings for data scientists. The more job openings, the better.\n",
    "\n",
    "2- The city ideally should have a low crime rate.\n",
    "\n",
    "3- Given that she is Turkish, she would like the Turkish restaurants nearby to have a high average rating. \n",
    "\n",
    "She wants you to create a ranking of the cities best-suited to her criteria above."
   ]
  }
 ],
 "metadata": {
  "kernelspec": {
   "display_name": "Python 3",
   "language": "python",
   "name": "python3"
  },
  "language_info": {
   "codemirror_mode": {
    "name": "ipython",
    "version": 3
   },
   "file_extension": ".py",
   "mimetype": "text/x-python",
   "name": "python",
   "nbconvert_exporter": "python",
   "pygments_lexer": "ipython3",
   "version": "3.7.1"
  }
 },
 "nbformat": 4,
 "nbformat_minor": 2
}
