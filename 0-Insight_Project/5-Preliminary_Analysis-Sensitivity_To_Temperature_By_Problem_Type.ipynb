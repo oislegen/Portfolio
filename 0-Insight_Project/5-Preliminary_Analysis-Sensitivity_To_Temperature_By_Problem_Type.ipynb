{
 "cells": [
  {
   "cell_type": "markdown",
   "metadata": {},
   "source": [
    "We will use weather data only from the San Diego Lindbergh Field weather station, which is assigned to the highest number of incidents and is at a central location "
   ]
  },
  {
   "cell_type": "code",
   "execution_count": 23,
   "metadata": {},
   "outputs": [],
   "source": [
    "# Import libraries necessary for this project\n",
    "import numpy as np\n",
    "import pandas as pd\n",
    "from time import time\n",
    "\n",
    "# Package to calculate distance between two coordinates\n",
    "import geopy.distance\n",
    "\n",
    "# Library for regular expression operations\n",
    "import re\n",
    "\n",
    "# Import supplementary visualization code visuals.py\n",
    "import visuals as vs\n",
    "\n",
    "# Suppress matplotlib user warnings\n",
    "# Necessary for newer version of matplotlib\n",
    "import warnings\n",
    "warnings.filterwarnings(\"ignore\")\n",
    "\n",
    "# Import libraries for data visualization\n",
    "import matplotlib\n",
    "import matplotlib.pyplot as plt\n",
    "import matplotlib.ticker as ticker\n",
    "import matplotlib.patches as mpatches\n",
    "import seaborn as sns\n",
    "sns.set()\n",
    "\n",
    "# Pretty display for notebooks\n",
    "%matplotlib inline"
   ]
  },
  {
   "cell_type": "code",
   "execution_count": 31,
   "metadata": {},
   "outputs": [
    {
     "data": {
      "text/html": [
       "<div>\n",
       "<style scoped>\n",
       "    .dataframe tbody tr th:only-of-type {\n",
       "        vertical-align: middle;\n",
       "    }\n",
       "\n",
       "    .dataframe tbody tr th {\n",
       "        vertical-align: top;\n",
       "    }\n",
       "\n",
       "    .dataframe thead th {\n",
       "        text-align: right;\n",
       "    }\n",
       "</style>\n",
       "<table border=\"1\" class=\"dataframe\">\n",
       "  <thead>\n",
       "    <tr style=\"text-align: right;\">\n",
       "      <th></th>\n",
       "      <th>date</th>\n",
       "      <th>high_low_diff</th>\n",
       "      <th>high_temp_diff</th>\n",
       "      <th>high_temp_alert</th>\n",
       "      <th>rain_alert</th>\n",
       "      <th>observed_precipitation</th>\n",
       "      <th>observed_low</th>\n",
       "      <th>observed_high</th>\n",
       "    </tr>\n",
       "  </thead>\n",
       "  <tbody>\n",
       "    <tr>\n",
       "      <td>0</td>\n",
       "      <td>2016-09-01</td>\n",
       "      <td>8</td>\n",
       "      <td>NaN</td>\n",
       "      <td>0</td>\n",
       "      <td>0</td>\n",
       "      <td>0.0</td>\n",
       "      <td>64</td>\n",
       "      <td>72</td>\n",
       "    </tr>\n",
       "    <tr>\n",
       "      <td>1</td>\n",
       "      <td>2016-09-02</td>\n",
       "      <td>10</td>\n",
       "      <td>1.0</td>\n",
       "      <td>0</td>\n",
       "      <td>0</td>\n",
       "      <td>0.0</td>\n",
       "      <td>63</td>\n",
       "      <td>73</td>\n",
       "    </tr>\n",
       "    <tr>\n",
       "      <td>2</td>\n",
       "      <td>2016-09-03</td>\n",
       "      <td>6</td>\n",
       "      <td>-3.0</td>\n",
       "      <td>0</td>\n",
       "      <td>0</td>\n",
       "      <td>0.0</td>\n",
       "      <td>64</td>\n",
       "      <td>70</td>\n",
       "    </tr>\n",
       "    <tr>\n",
       "      <td>3</td>\n",
       "      <td>2016-09-04</td>\n",
       "      <td>9</td>\n",
       "      <td>4.0</td>\n",
       "      <td>0</td>\n",
       "      <td>0</td>\n",
       "      <td>0.0</td>\n",
       "      <td>65</td>\n",
       "      <td>74</td>\n",
       "    </tr>\n",
       "    <tr>\n",
       "      <td>4</td>\n",
       "      <td>2016-09-05</td>\n",
       "      <td>7</td>\n",
       "      <td>-2.0</td>\n",
       "      <td>0</td>\n",
       "      <td>0</td>\n",
       "      <td>0.0</td>\n",
       "      <td>65</td>\n",
       "      <td>72</td>\n",
       "    </tr>\n",
       "  </tbody>\n",
       "</table>\n",
       "</div>"
      ],
      "text/plain": [
       "         date  high_low_diff  high_temp_diff  high_temp_alert  rain_alert  \\\n",
       "0  2016-09-01              8             NaN                0           0   \n",
       "1  2016-09-02             10             1.0                0           0   \n",
       "2  2016-09-03              6            -3.0                0           0   \n",
       "3  2016-09-04              9             4.0                0           0   \n",
       "4  2016-09-05              7            -2.0                0           0   \n",
       "\n",
       "   observed_precipitation  observed_low  observed_high  \n",
       "0                     0.0            64             72  \n",
       "1                     0.0            63             73  \n",
       "2                     0.0            64             70  \n",
       "3                     0.0            65             74  \n",
       "4                     0.0            65             72  "
      ]
     },
     "execution_count": 31,
     "metadata": {},
     "output_type": "execute_result"
    }
   ],
   "source": [
    "# Load the engineered weather station data for the San Diego Lindbergh Field Station\n",
    "sdlf=pd.read_csv('san_diego_lindbergh_field_engineered.csv',header=0,parse_dates=True)\n",
    "sdlf.head()"
   ]
  },
  {
   "cell_type": "code",
   "execution_count": 4,
   "metadata": {},
   "outputs": [
    {
     "data": {
      "text/plain": [
       "Index(['ID', 'Latitude_Decimal', 'Longitude_Decimal', 'Postal_Code',\n",
       "       'Response_Date', 'Problem', 'assigned_station'],\n",
       "      dtype='object')"
      ]
     },
     "execution_count": 4,
     "metadata": {},
     "output_type": "execute_result"
    }
   ],
   "source": [
    "# Load the data for all incidents\n",
    "parse_dates = ['Response_Date']\n",
    "incidents_sd=pd.read_csv('incidents_sd.csv',header=0,parse_dates=parse_dates)\n",
    "incidents_sd.columns"
   ]
  },
  {
   "cell_type": "code",
   "execution_count": 7,
   "metadata": {},
   "outputs": [
    {
     "data": {
      "text/plain": [
       "Sick Person (Specific Dx)(L1)     39706\n",
       "Unc/Fainting (Non Trauma)(L1)     35695\n",
       "Breathing Problems (L1)           35165\n",
       "Falls / Back Inj (Trauma) (L1)    31343\n",
       "Traffic Accident (L1)             31234\n",
       "                                  ...  \n",
       "Electrocution (L2c)                   1\n",
       "Abdominal Pain/Problems (L2c)         1\n",
       "Animal Bites/ Attacks (L1c)           1\n",
       "Abdominal Pain/Problems (L1b)         1\n",
       "Convulsions / Seizures (L1b)          1\n",
       "Name: Problem, Length: 218, dtype: int64"
      ]
     },
     "execution_count": 7,
     "metadata": {},
     "output_type": "execute_result"
    }
   ],
   "source": [
    "# Find the value counts of all problem types in the date set  \n",
    "incidents_sd['Problem'].value_counts()"
   ]
  },
  {
   "cell_type": "markdown",
   "metadata": {},
   "source": [
    "There are 218 problem types in the data set. We will show the ten most common problem types:"
   ]
  },
  {
   "cell_type": "code",
   "execution_count": 13,
   "metadata": {},
   "outputs": [
    {
     "data": {
      "text/html": [
       "<div>\n",
       "<style scoped>\n",
       "    .dataframe tbody tr th:only-of-type {\n",
       "        vertical-align: middle;\n",
       "    }\n",
       "\n",
       "    .dataframe tbody tr th {\n",
       "        vertical-align: top;\n",
       "    }\n",
       "\n",
       "    .dataframe thead th {\n",
       "        text-align: right;\n",
       "    }\n",
       "</style>\n",
       "<table border=\"1\" class=\"dataframe\">\n",
       "  <thead>\n",
       "    <tr style=\"text-align: right;\">\n",
       "      <th></th>\n",
       "      <th>Ten_Most_Common_Problems</th>\n",
       "    </tr>\n",
       "  </thead>\n",
       "  <tbody>\n",
       "    <tr>\n",
       "      <td>0</td>\n",
       "      <td>Sick Person (Specific Dx)(L1)</td>\n",
       "    </tr>\n",
       "    <tr>\n",
       "      <td>1</td>\n",
       "      <td>Unc/Fainting (Non Trauma)(L1)</td>\n",
       "    </tr>\n",
       "    <tr>\n",
       "      <td>2</td>\n",
       "      <td>Breathing Problems (L1)</td>\n",
       "    </tr>\n",
       "    <tr>\n",
       "      <td>3</td>\n",
       "      <td>Falls / Back Inj (Trauma) (L1)</td>\n",
       "    </tr>\n",
       "    <tr>\n",
       "      <td>4</td>\n",
       "      <td>Traffic Accident (L1)</td>\n",
       "    </tr>\n",
       "    <tr>\n",
       "      <td>5</td>\n",
       "      <td>Chest Pain (L1)</td>\n",
       "    </tr>\n",
       "    <tr>\n",
       "      <td>6</td>\n",
       "      <td>Sick Person (Specific Dx)(L4)</td>\n",
       "    </tr>\n",
       "    <tr>\n",
       "      <td>7</td>\n",
       "      <td>Convulsions / Seizures (L1)</td>\n",
       "    </tr>\n",
       "    <tr>\n",
       "      <td>8</td>\n",
       "      <td>Assault/Rape (L1)</td>\n",
       "    </tr>\n",
       "    <tr>\n",
       "      <td>9</td>\n",
       "      <td>Hemorrhage / Lacerations (L1)</td>\n",
       "    </tr>\n",
       "  </tbody>\n",
       "</table>\n",
       "</div>"
      ],
      "text/plain": [
       "         Ten_Most_Common_Problems\n",
       "0   Sick Person (Specific Dx)(L1)\n",
       "1   Unc/Fainting (Non Trauma)(L1)\n",
       "2         Breathing Problems (L1)\n",
       "3  Falls / Back Inj (Trauma) (L1)\n",
       "4           Traffic Accident (L1)\n",
       "5                 Chest Pain (L1)\n",
       "6   Sick Person (Specific Dx)(L4)\n",
       "7     Convulsions / Seizures (L1)\n",
       "8               Assault/Rape (L1)\n",
       "9   Hemorrhage / Lacerations (L1)"
      ]
     },
     "execution_count": 13,
     "metadata": {},
     "output_type": "execute_result"
    }
   ],
   "source": [
    "# Show the ten most common incident types\n",
    "pd.DataFrame(incidents_sd['Problem'].value_counts().iloc[0:10].index, columns=['Ten_Most_Common_Problems'])"
   ]
  },
  {
   "cell_type": "markdown",
   "metadata": {},
   "source": [
    "Three problem types are chosen to explore as they are among the most common problems, are specific enough and might be correlated with temperature: breathing problems, traffic accidents and chest pain."
   ]
  },
  {
   "cell_type": "code",
   "execution_count": 14,
   "metadata": {
    "scrolled": false
   },
   "outputs": [],
   "source": [
    "# Create a column which contains only the date of the incident, not time of day \n",
    "incidents_sd['Response_Day'] = incidents_sd['Response_Date'].dt.date"
   ]
  },
  {
   "cell_type": "code",
   "execution_count": 16,
   "metadata": {},
   "outputs": [
    {
     "data": {
      "text/plain": [
       "Breathing Problems (L1)     35165\n",
       "Breathing Problems (L1a)     1077\n",
       "Breathing Problems (L3)        22\n",
       "Breathing Problems (L4)         3\n",
       "Breathing Problems (L3a)        1\n",
       "Name: Problem, dtype: int64"
      ]
     },
     "execution_count": 16,
     "metadata": {},
     "output_type": "execute_result"
    }
   ],
   "source": [
    "# Create a dataframe which includes incidents with breathing problems only\n",
    "incidents_breathing=incidents_sd[incidents_sd['Problem'].str.contains('Breathing',regex=True)][['ID','Response_Day','Problem']]\n",
    "incidents_breathing['Problem'].value_counts()"
   ]
  },
  {
   "cell_type": "code",
   "execution_count": 19,
   "metadata": {
    "scrolled": true
   },
   "outputs": [],
   "source": [
    "# Group the incidents related to breathing by the number of incidents per day\n",
    "incidents_breathing_grouped=incidents_breathing.groupby(['Response_Day'],as_index=False)['ID'].count()\n",
    "incidents_breathing_grouped['breathing_problems']=incidents_breathing_grouped['ID']"
   ]
  },
  {
   "cell_type": "code",
   "execution_count": 20,
   "metadata": {},
   "outputs": [
    {
     "data": {
      "text/plain": [
       "Chest Pain (L1)     29576\n",
       "Chest Pain (L3)       816\n",
       "Chest Pain (L1a)      531\n",
       "Chest Pain (L2a)      350\n",
       "Chest Pain (L3a)       24\n",
       "Name: Problem, dtype: int64"
      ]
     },
     "execution_count": 20,
     "metadata": {},
     "output_type": "execute_result"
    }
   ],
   "source": [
    "# Create a dataframe which includes incidents related to chest pain only\n",
    "incidents_chest=incidents_sd[incidents_sd['Problem'].str.contains('Chest',regex=True)][['ID','Response_Day','Problem']]\n",
    "incidents_chest['Problem'].value_counts()"
   ]
  },
  {
   "cell_type": "code",
   "execution_count": 21,
   "metadata": {},
   "outputs": [],
   "source": [
    "# Group the incidents related to chest pain by the number of incidents per day\n",
    "incidents_chest_grouped=incidents_chest.groupby(['Response_Day'],as_index=False)['ID'].count()\n",
    "incidents_chest_grouped['chest_pain']=incidents_chest_grouped['ID']"
   ]
  },
  {
   "cell_type": "code",
   "execution_count": 22,
   "metadata": {},
   "outputs": [
    {
     "data": {
      "text/plain": [
       "Traffic Accident (L1)           31234\n",
       "Traffic Accident FWY              180\n",
       "Traffic Accident FWY (CV/NC)        5\n",
       "Traffic Accident (L3)               3\n",
       "Name: Problem, dtype: int64"
      ]
     },
     "execution_count": 22,
     "metadata": {},
     "output_type": "execute_result"
    }
   ],
   "source": [
    "# Create a dataframe which includes incidents related to traffic accidents only\n",
    "incidents_traffic=incidents_sd[incidents_sd['Problem'].str.contains('Traffic',regex=True)][['ID','Response_Day','Problem']]\n",
    "incidents_traffic['Problem'].value_counts()"
   ]
  },
  {
   "cell_type": "code",
   "execution_count": 29,
   "metadata": {},
   "outputs": [],
   "source": [
    "# Group the incidents related to traffic accidents by the number of incidents per day\n",
    "incidents_traffic_grouped=incidents_traffic.groupby(['Response_Day'],as_index=False)['ID'].count()\n",
    "incidents_traffic_grouped['traffic_accidents']=incidents_traffic_grouped['ID']"
   ]
  },
  {
   "cell_type": "code",
   "execution_count": 25,
   "metadata": {},
   "outputs": [],
   "source": [
    "# Draw a heatmap of correlations between all numeric features\n",
    "def correlation_matrix(dataset):\n",
    "    numeric_columns=dataset.select_dtypes(include=['int','float']).columns.values.tolist()\n",
    "    fig, ax = plt.subplots(figsize=(7,7))     \n",
    "    sns.heatmap(dataset[numeric_columns].corr(),cmap='viridis_r', annot=True, ax=ax)\n",
    "    fig.tight_layout()\n",
    "    fig.show() "
   ]
  },
  {
   "cell_type": "code",
   "execution_count": 32,
   "metadata": {},
   "outputs": [
    {
     "data": {
      "text/html": [
       "<div>\n",
       "<style scoped>\n",
       "    .dataframe tbody tr th:only-of-type {\n",
       "        vertical-align: middle;\n",
       "    }\n",
       "\n",
       "    .dataframe tbody tr th {\n",
       "        vertical-align: top;\n",
       "    }\n",
       "\n",
       "    .dataframe thead th {\n",
       "        text-align: right;\n",
       "    }\n",
       "</style>\n",
       "<table border=\"1\" class=\"dataframe\">\n",
       "  <thead>\n",
       "    <tr style=\"text-align: right;\">\n",
       "      <th></th>\n",
       "      <th>observed_high</th>\n",
       "      <th>traffic_accidents</th>\n",
       "      <th>chest_pain</th>\n",
       "      <th>breathing_problems</th>\n",
       "    </tr>\n",
       "  </thead>\n",
       "  <tbody>\n",
       "    <tr>\n",
       "      <td>0</td>\n",
       "      <td>72</td>\n",
       "      <td>38</td>\n",
       "      <td>35</td>\n",
       "      <td>28</td>\n",
       "    </tr>\n",
       "    <tr>\n",
       "      <td>1</td>\n",
       "      <td>73</td>\n",
       "      <td>35</td>\n",
       "      <td>28</td>\n",
       "      <td>23</td>\n",
       "    </tr>\n",
       "    <tr>\n",
       "      <td>2</td>\n",
       "      <td>70</td>\n",
       "      <td>28</td>\n",
       "      <td>33</td>\n",
       "      <td>32</td>\n",
       "    </tr>\n",
       "    <tr>\n",
       "      <td>3</td>\n",
       "      <td>74</td>\n",
       "      <td>19</td>\n",
       "      <td>22</td>\n",
       "      <td>30</td>\n",
       "    </tr>\n",
       "    <tr>\n",
       "      <td>4</td>\n",
       "      <td>72</td>\n",
       "      <td>13</td>\n",
       "      <td>18</td>\n",
       "      <td>34</td>\n",
       "    </tr>\n",
       "  </tbody>\n",
       "</table>\n",
       "</div>"
      ],
      "text/plain": [
       "   observed_high  traffic_accidents  chest_pain  breathing_problems\n",
       "0             72                 38          35                  28\n",
       "1             73                 35          28                  23\n",
       "2             70                 28          33                  32\n",
       "3             74                 19          22                  30\n",
       "4             72                 13          18                  34"
      ]
     },
     "execution_count": 32,
     "metadata": {},
     "output_type": "execute_result"
    }
   ],
   "source": [
    "input_output=pd.concat([sdlf['observed_high'],incidents_traffic_grouped['traffic_accidents'],incidents_chest_grouped['chest_pain'],incidents_breathing_grouped['breathing_problems']],axis=1)\n",
    "input_output.head()"
   ]
  },
  {
   "cell_type": "code",
   "execution_count": 33,
   "metadata": {
    "scrolled": true
   },
   "outputs": [
    {
     "data": {
      "image/png": "[encoded data removed]",
      "text/plain": [
       "<Figure size 504x504 with 2 Axes>"
      ]
     },
     "metadata": {
      "needs_background": "light"
     },
     "output_type": "display_data"
    }
   ],
   "source": [
    "# Draw the correlation matrix with seven days of number of incidents and all weather related features\n",
    "correlation_matrix(input_output)"
   ]
  },
  {
   "cell_type": "markdown",
   "metadata": {},
   "source": [
    "Only the number of incidents related to breathing problems seem to show some correlation with the observed high temperature during the day: As the temperature increases, the number of breathing problems decrease. This might be because the humidity tends to decrease as the temperature increases in San Diego. This kind of analysis might be useful to determine the material needs in ambulances depending on the expected increase in the particular types of problems as the temperatures increase. Further exploration can shed light on the relationship of other types of incidents with the observed high temperature during the day."
   ]
  }
 ],
 "metadata": {
  "kernelspec": {
   "display_name": "Python 3",
   "language": "python",
   "name": "python3"
  },
  "language_info": {
   "codemirror_mode": {
    "name": "ipython",
    "version": 3
   },
   "file_extension": ".py",
   "mimetype": "text/x-python",
   "name": "python",
   "nbconvert_exporter": "python",
   "pygments_lexer": "ipython3",
   "version": "3.7.4"
  }
 },
 "nbformat": 4,
 "nbformat_minor": 2
}
